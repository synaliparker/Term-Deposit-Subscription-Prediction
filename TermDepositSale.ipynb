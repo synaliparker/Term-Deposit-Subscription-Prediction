{
 "cells": [
  {
   "cell_type": "markdown",
   "metadata": {},
   "source": [
    "# Project - Term Deposit Sale\n",
    "\n",
    "\n",
    "### Goal:\n",
    "\n",
    "Using the data collected from existing customers, build a model that will help the marketing\n",
    "team identify potential customers who are relatively more likely to subscribe term deposit\n",
    "and thus increase their hit ratio.\n",
    " \n",
    "\n",
    "### Attribute Information:\n",
    "\n",
    "Input variables:\n",
    "\n",
    "    Bank client data:\n",
    "        1. age: Continuous feature\n",
    "        2. job: Type of job (management, technician, entrepreneur, blue-collar, etc.)\n",
    "        3. marital: marital status (married, single, divorced)\n",
    "        4. education: education level (primary, secondary, tertiary)\n",
    "        5. default: has credit in default?\n",
    "        6. housing: has housing loan?\n",
    "        7. loan: has personal loan?\n",
    "        8. balance in account\n",
    "    Related to previous contact:\n",
    "        9. contact: contact communication type\n",
    "        10. month: last contact month of year\n",
    "        11. day: last contact day of the month\n",
    "        12. duration: last contact duration, in seconds*\n",
    "    Other attributes:\n",
    "        13. campaign: number of contacts performed during this campaign and for this\n",
    "            client\n",
    "        14. pdays: number of days that passed by after the client was last contacted from a\n",
    "            previous campaign (-1 tells us the person has not been contacted or contact\n",
    "            period is beyond 900 days)\n",
    "        15. previous: number of times the client has been contacted before for the last\n",
    "            campaign to subscribe term deposit\n",
    "        16. poutcome: outcome of the previous marketing campaign\n",
    "    Output variable (desired target):\n",
    "        17. Target: Tell us has the client subscribed a term deposit. (Yes, No)"
   ]
  },
  {
   "cell_type": "markdown",
   "metadata": {},
   "source": [
    "## Deliverable – 1 (Exploratory data quality report reflecting the following) – (20)"
   ]
  },
  {
   "cell_type": "markdown",
   "metadata": {},
   "source": [
    "### 1. Univariate analysis (12 marks)\n",
    "- Univariate analysis – data types and description of the independent attributes which should include (name, meaning, range of values observed, central values (mean and median), standard deviation and quartiles, analysis of the body of distributions / tails, missing values, outliers.\n",
    "- Strategies to address the different data challenges such as data pollution, outlier’s treatment and missing values treatment\n",
    "- Please provide comments in jupyter notebook regarding the steps you take and insights drawn from the plots."
   ]
  },
  {
   "cell_type": "code",
   "execution_count": 1,
   "metadata": {},
   "outputs": [],
   "source": [
    "#Import warnings\n",
    "import warnings\n",
    "warnings.filterwarnings('ignore')"
   ]
  },
  {
   "cell_type": "code",
   "execution_count": 1,
   "metadata": {},
   "outputs": [],
   "source": [
    "#Load libraries\n",
    "import pandas as pd\n",
    "import numpy as np\n",
    "from sklearn import metrics\n",
    "import matplotlib.pyplot as plt\n",
    "import seaborn as sns\n",
    "%matplotlib inline\n",
    "\n",
    "# Remove scientific notations and display numbers with 2 decimal points instead\n",
    "pd.options.display.float_format = '{:,.2f}'.format"
   ]
  },
  {
   "cell_type": "code",
   "execution_count": 3,
   "metadata": {},
   "outputs": [],
   "source": [
    "#Import data\n",
    "data = pd.read_csv('bank-full.csv')"
   ]
  },
  {
   "cell_type": "code",
   "execution_count": 4,
   "metadata": {},
   "outputs": [
    {
     "data": {
      "text/html": [
       "<div>\n",
       "<style scoped>\n",
       "    .dataframe tbody tr th:only-of-type {\n",
       "        vertical-align: middle;\n",
       "    }\n",
       "\n",
       "    .dataframe tbody tr th {\n",
       "        vertical-align: top;\n",
       "    }\n",
       "\n",
       "    .dataframe thead th {\n",
       "        text-align: right;\n",
       "    }\n",
       "</style>\n",
       "<table border=\"1\" class=\"dataframe\">\n",
       "  <thead>\n",
       "    <tr style=\"text-align: right;\">\n",
       "      <th></th>\n",
       "      <th>age</th>\n",
       "      <th>job</th>\n",
       "      <th>marital</th>\n",
       "      <th>education</th>\n",
       "      <th>default</th>\n",
       "      <th>balance</th>\n",
       "      <th>housing</th>\n",
       "      <th>loan</th>\n",
       "      <th>contact</th>\n",
       "      <th>day</th>\n",
       "      <th>month</th>\n",
       "      <th>duration</th>\n",
       "      <th>campaign</th>\n",
       "      <th>pdays</th>\n",
       "      <th>previous</th>\n",
       "      <th>poutcome</th>\n",
       "      <th>Target</th>\n",
       "    </tr>\n",
       "  </thead>\n",
       "  <tbody>\n",
       "    <tr>\n",
       "      <th>0</th>\n",
       "      <td>58</td>\n",
       "      <td>management</td>\n",
       "      <td>married</td>\n",
       "      <td>tertiary</td>\n",
       "      <td>no</td>\n",
       "      <td>2143</td>\n",
       "      <td>yes</td>\n",
       "      <td>no</td>\n",
       "      <td>unknown</td>\n",
       "      <td>5</td>\n",
       "      <td>may</td>\n",
       "      <td>261</td>\n",
       "      <td>1</td>\n",
       "      <td>-1</td>\n",
       "      <td>0</td>\n",
       "      <td>unknown</td>\n",
       "      <td>no</td>\n",
       "    </tr>\n",
       "    <tr>\n",
       "      <th>1</th>\n",
       "      <td>44</td>\n",
       "      <td>technician</td>\n",
       "      <td>single</td>\n",
       "      <td>secondary</td>\n",
       "      <td>no</td>\n",
       "      <td>29</td>\n",
       "      <td>yes</td>\n",
       "      <td>no</td>\n",
       "      <td>unknown</td>\n",
       "      <td>5</td>\n",
       "      <td>may</td>\n",
       "      <td>151</td>\n",
       "      <td>1</td>\n",
       "      <td>-1</td>\n",
       "      <td>0</td>\n",
       "      <td>unknown</td>\n",
       "      <td>no</td>\n",
       "    </tr>\n",
       "    <tr>\n",
       "      <th>2</th>\n",
       "      <td>33</td>\n",
       "      <td>entrepreneur</td>\n",
       "      <td>married</td>\n",
       "      <td>secondary</td>\n",
       "      <td>no</td>\n",
       "      <td>2</td>\n",
       "      <td>yes</td>\n",
       "      <td>yes</td>\n",
       "      <td>unknown</td>\n",
       "      <td>5</td>\n",
       "      <td>may</td>\n",
       "      <td>76</td>\n",
       "      <td>1</td>\n",
       "      <td>-1</td>\n",
       "      <td>0</td>\n",
       "      <td>unknown</td>\n",
       "      <td>no</td>\n",
       "    </tr>\n",
       "    <tr>\n",
       "      <th>3</th>\n",
       "      <td>47</td>\n",
       "      <td>blue-collar</td>\n",
       "      <td>married</td>\n",
       "      <td>unknown</td>\n",
       "      <td>no</td>\n",
       "      <td>1506</td>\n",
       "      <td>yes</td>\n",
       "      <td>no</td>\n",
       "      <td>unknown</td>\n",
       "      <td>5</td>\n",
       "      <td>may</td>\n",
       "      <td>92</td>\n",
       "      <td>1</td>\n",
       "      <td>-1</td>\n",
       "      <td>0</td>\n",
       "      <td>unknown</td>\n",
       "      <td>no</td>\n",
       "    </tr>\n",
       "    <tr>\n",
       "      <th>4</th>\n",
       "      <td>33</td>\n",
       "      <td>unknown</td>\n",
       "      <td>single</td>\n",
       "      <td>unknown</td>\n",
       "      <td>no</td>\n",
       "      <td>1</td>\n",
       "      <td>no</td>\n",
       "      <td>no</td>\n",
       "      <td>unknown</td>\n",
       "      <td>5</td>\n",
       "      <td>may</td>\n",
       "      <td>198</td>\n",
       "      <td>1</td>\n",
       "      <td>-1</td>\n",
       "      <td>0</td>\n",
       "      <td>unknown</td>\n",
       "      <td>no</td>\n",
       "    </tr>\n",
       "  </tbody>\n",
       "</table>\n",
       "</div>"
      ],
      "text/plain": [
       "   age           job  marital  education default  balance housing loan  \\\n",
       "0   58    management  married   tertiary      no     2143     yes   no   \n",
       "1   44    technician   single  secondary      no       29     yes   no   \n",
       "2   33  entrepreneur  married  secondary      no        2     yes  yes   \n",
       "3   47   blue-collar  married    unknown      no     1506     yes   no   \n",
       "4   33       unknown   single    unknown      no        1      no   no   \n",
       "\n",
       "   contact  day month  duration  campaign  pdays  previous poutcome Target  \n",
       "0  unknown    5   may       261         1     -1         0  unknown     no  \n",
       "1  unknown    5   may       151         1     -1         0  unknown     no  \n",
       "2  unknown    5   may        76         1     -1         0  unknown     no  \n",
       "3  unknown    5   may        92         1     -1         0  unknown     no  \n",
       "4  unknown    5   may       198         1     -1         0  unknown     no  "
      ]
     },
     "execution_count": 4,
     "metadata": {},
     "output_type": "execute_result"
    }
   ],
   "source": [
    "#Peak at the data\n",
    "data.head()"
   ]
  },
  {
   "cell_type": "code",
   "execution_count": 5,
   "metadata": {},
   "outputs": [
    {
     "name": "stdout",
     "output_type": "stream",
     "text": [
      "<class 'pandas.core.frame.DataFrame'>\n",
      "RangeIndex: 45211 entries, 0 to 45210\n",
      "Data columns (total 17 columns):\n",
      " #   Column     Non-Null Count  Dtype \n",
      "---  ------     --------------  ----- \n",
      " 0   age        45211 non-null  int64 \n",
      " 1   job        45211 non-null  object\n",
      " 2   marital    45211 non-null  object\n",
      " 3   education  45211 non-null  object\n",
      " 4   default    45211 non-null  object\n",
      " 5   balance    45211 non-null  int64 \n",
      " 6   housing    45211 non-null  object\n",
      " 7   loan       45211 non-null  object\n",
      " 8   contact    45211 non-null  object\n",
      " 9   day        45211 non-null  int64 \n",
      " 10  month      45211 non-null  object\n",
      " 11  duration   45211 non-null  int64 \n",
      " 12  campaign   45211 non-null  int64 \n",
      " 13  pdays      45211 non-null  int64 \n",
      " 14  previous   45211 non-null  int64 \n",
      " 15  poutcome   45211 non-null  object\n",
      " 16  Target     45211 non-null  object\n",
      "dtypes: int64(7), object(10)\n",
      "memory usage: 5.9+ MB\n"
     ]
    }
   ],
   "source": [
    "#Check datatypes\n",
    "data.info()"
   ]
  },
  {
   "cell_type": "code",
   "execution_count": 6,
   "metadata": {},
   "outputs": [
    {
     "data": {
      "text/html": [
       "<div>\n",
       "<style scoped>\n",
       "    .dataframe tbody tr th:only-of-type {\n",
       "        vertical-align: middle;\n",
       "    }\n",
       "\n",
       "    .dataframe tbody tr th {\n",
       "        vertical-align: top;\n",
       "    }\n",
       "\n",
       "    .dataframe thead th {\n",
       "        text-align: right;\n",
       "    }\n",
       "</style>\n",
       "<table border=\"1\" class=\"dataframe\">\n",
       "  <thead>\n",
       "    <tr style=\"text-align: right;\">\n",
       "      <th></th>\n",
       "      <th>count</th>\n",
       "      <th>mean</th>\n",
       "      <th>std</th>\n",
       "      <th>min</th>\n",
       "      <th>25%</th>\n",
       "      <th>50%</th>\n",
       "      <th>75%</th>\n",
       "      <th>max</th>\n",
       "    </tr>\n",
       "  </thead>\n",
       "  <tbody>\n",
       "    <tr>\n",
       "      <th>age</th>\n",
       "      <td>45,211.00</td>\n",
       "      <td>40.94</td>\n",
       "      <td>10.62</td>\n",
       "      <td>18.00</td>\n",
       "      <td>33.00</td>\n",
       "      <td>39.00</td>\n",
       "      <td>48.00</td>\n",
       "      <td>95.00</td>\n",
       "    </tr>\n",
       "    <tr>\n",
       "      <th>balance</th>\n",
       "      <td>45,211.00</td>\n",
       "      <td>1,362.27</td>\n",
       "      <td>3,044.77</td>\n",
       "      <td>-8,019.00</td>\n",
       "      <td>72.00</td>\n",
       "      <td>448.00</td>\n",
       "      <td>1,428.00</td>\n",
       "      <td>102,127.00</td>\n",
       "    </tr>\n",
       "    <tr>\n",
       "      <th>day</th>\n",
       "      <td>45,211.00</td>\n",
       "      <td>15.81</td>\n",
       "      <td>8.32</td>\n",
       "      <td>1.00</td>\n",
       "      <td>8.00</td>\n",
       "      <td>16.00</td>\n",
       "      <td>21.00</td>\n",
       "      <td>31.00</td>\n",
       "    </tr>\n",
       "    <tr>\n",
       "      <th>duration</th>\n",
       "      <td>45,211.00</td>\n",
       "      <td>258.16</td>\n",
       "      <td>257.53</td>\n",
       "      <td>0.00</td>\n",
       "      <td>103.00</td>\n",
       "      <td>180.00</td>\n",
       "      <td>319.00</td>\n",
       "      <td>4,918.00</td>\n",
       "    </tr>\n",
       "    <tr>\n",
       "      <th>campaign</th>\n",
       "      <td>45,211.00</td>\n",
       "      <td>2.76</td>\n",
       "      <td>3.10</td>\n",
       "      <td>1.00</td>\n",
       "      <td>1.00</td>\n",
       "      <td>2.00</td>\n",
       "      <td>3.00</td>\n",
       "      <td>63.00</td>\n",
       "    </tr>\n",
       "    <tr>\n",
       "      <th>pdays</th>\n",
       "      <td>45,211.00</td>\n",
       "      <td>40.20</td>\n",
       "      <td>100.13</td>\n",
       "      <td>-1.00</td>\n",
       "      <td>-1.00</td>\n",
       "      <td>-1.00</td>\n",
       "      <td>-1.00</td>\n",
       "      <td>871.00</td>\n",
       "    </tr>\n",
       "    <tr>\n",
       "      <th>previous</th>\n",
       "      <td>45,211.00</td>\n",
       "      <td>0.58</td>\n",
       "      <td>2.30</td>\n",
       "      <td>0.00</td>\n",
       "      <td>0.00</td>\n",
       "      <td>0.00</td>\n",
       "      <td>0.00</td>\n",
       "      <td>275.00</td>\n",
       "    </tr>\n",
       "  </tbody>\n",
       "</table>\n",
       "</div>"
      ],
      "text/plain": [
       "             count     mean      std       min    25%    50%      75%  \\\n",
       "age      45,211.00    40.94    10.62     18.00  33.00  39.00    48.00   \n",
       "balance  45,211.00 1,362.27 3,044.77 -8,019.00  72.00 448.00 1,428.00   \n",
       "day      45,211.00    15.81     8.32      1.00   8.00  16.00    21.00   \n",
       "duration 45,211.00   258.16   257.53      0.00 103.00 180.00   319.00   \n",
       "campaign 45,211.00     2.76     3.10      1.00   1.00   2.00     3.00   \n",
       "pdays    45,211.00    40.20   100.13     -1.00  -1.00  -1.00    -1.00   \n",
       "previous 45,211.00     0.58     2.30      0.00   0.00   0.00     0.00   \n",
       "\n",
       "                max  \n",
       "age           95.00  \n",
       "balance  102,127.00  \n",
       "day           31.00  \n",
       "duration   4,918.00  \n",
       "campaign      63.00  \n",
       "pdays        871.00  \n",
       "previous     275.00  "
      ]
     },
     "execution_count": 6,
     "metadata": {},
     "output_type": "execute_result"
    }
   ],
   "source": [
    "#Get some basic information on the data\n",
    "data.describe().T"
   ]
  },
  {
   "cell_type": "code",
   "execution_count": 7,
   "metadata": {},
   "outputs": [
    {
     "data": {
      "text/plain": [
       "(45211, 17)"
      ]
     },
     "execution_count": 7,
     "metadata": {},
     "output_type": "execute_result"
    }
   ],
   "source": [
    "#Number of rows and columns\n",
    "data.shape"
   ]
  },
  {
   "cell_type": "code",
   "execution_count": 8,
   "metadata": {},
   "outputs": [
    {
     "data": {
      "text/plain": [
       "age          0\n",
       "job          0\n",
       "marital      0\n",
       "education    0\n",
       "default      0\n",
       "balance      0\n",
       "housing      0\n",
       "loan         0\n",
       "contact      0\n",
       "day          0\n",
       "month        0\n",
       "duration     0\n",
       "campaign     0\n",
       "pdays        0\n",
       "previous     0\n",
       "poutcome     0\n",
       "Target       0\n",
       "dtype: int64"
      ]
     },
     "execution_count": 8,
     "metadata": {},
     "output_type": "execute_result"
    }
   ],
   "source": [
    "#Check if there are any null values\n",
    "data.isnull().sum()"
   ]
  },
  {
   "cell_type": "code",
   "execution_count": 9,
   "metadata": {},
   "outputs": [
    {
     "data": {
      "text/plain": [
       "age            77\n",
       "job            12\n",
       "marital         3\n",
       "education       4\n",
       "default         2\n",
       "balance      7168\n",
       "housing         2\n",
       "loan            2\n",
       "contact         3\n",
       "day            31\n",
       "month          12\n",
       "duration     1573\n",
       "campaign       48\n",
       "pdays         559\n",
       "previous       41\n",
       "poutcome        4\n",
       "Target          2\n",
       "dtype: int64"
      ]
     },
     "execution_count": 9,
     "metadata": {},
     "output_type": "execute_result"
    }
   ],
   "source": [
    "#Show the count of unique values in each column\n",
    "data.nunique()"
   ]
  },
  {
   "cell_type": "code",
   "execution_count": 10,
   "metadata": {},
   "outputs": [
    {
     "data": {
      "text/plain": [
       "no     39922\n",
       "yes     5289\n",
       "Name: Target, dtype: int64"
      ]
     },
     "execution_count": 10,
     "metadata": {},
     "output_type": "execute_result"
    }
   ],
   "source": [
    "#Number of people who subscribed to term deposit or not\n",
    "data[\"Target\"].value_counts()"
   ]
  },
  {
   "cell_type": "code",
   "execution_count": 11,
   "metadata": {},
   "outputs": [
    {
     "data": {
      "image/png": "[encoded data removed]",
      "text/plain": [
       "<Figure size 1080x576 with 1 Axes>"
      ]
     },
     "metadata": {
      "needs_background": "light"
     },
     "output_type": "display_data"
    }
   ],
   "source": [
    "#Checking client age range of data\n",
    "plt.figure(figsize=(15,8))\n",
    "sns.distplot(data['age'])\n",
    "plt.show()"
   ]
  },
  {
   "cell_type": "code",
   "execution_count": 12,
   "metadata": {},
   "outputs": [
    {
     "data": {
      "text/plain": [
       "<AxesSubplot:xlabel='education', ylabel='count'>"
      ]
     },
     "execution_count": 12,
     "metadata": {},
     "output_type": "execute_result"
    },
    {
     "data": {
      "image/png": "[encoded data removed]",
      "text/plain": [
       "<Figure size 432x288 with 1 Axes>"
      ]
     },
     "metadata": {
      "needs_background": "light"
     },
     "output_type": "display_data"
    }
   ],
   "source": [
    "#Looking at education levels of clients\n",
    "sns.countplot(data['education'])"
   ]
  },
  {
   "cell_type": "code",
   "execution_count": 13,
   "metadata": {},
   "outputs": [
    {
     "data": {
      "text/plain": [
       "secondary    23202\n",
       "tertiary     13301\n",
       "primary       6851\n",
       "unknown       1857\n",
       "Name: education, dtype: int64"
      ]
     },
     "execution_count": 13,
     "metadata": {},
     "output_type": "execute_result"
    }
   ],
   "source": [
    "#Count values of education levels\n",
    "data[\"education\"].value_counts()"
   ]
  },
  {
   "cell_type": "markdown",
   "metadata": {},
   "source": [
    "**Insights:** `We know most of the clients' education levels. Only about 4% of clients' education is unknown.`"
   ]
  },
  {
   "cell_type": "code",
   "execution_count": 14,
   "metadata": {},
   "outputs": [
    {
     "data": {
      "image/png": "[encoded data removed]",
      "text/plain": [
       "<Figure size 1080x576 with 1 Axes>"
      ]
     },
     "metadata": {
      "needs_background": "light"
     },
     "output_type": "display_data"
    }
   ],
   "source": [
    "#Looking at job counts of clients\n",
    "plt.figure(figsize=(15,8))\n",
    "sns.countplot(data['job'])\n",
    "plt.show()"
   ]
  },
  {
   "cell_type": "code",
   "execution_count": 15,
   "metadata": {},
   "outputs": [
    {
     "data": {
      "text/plain": [
       "blue-collar      9732\n",
       "management       9458\n",
       "technician       7597\n",
       "admin.           5171\n",
       "services         4154\n",
       "retired          2264\n",
       "self-employed    1579\n",
       "entrepreneur     1487\n",
       "unemployed       1303\n",
       "housemaid        1240\n",
       "student           938\n",
       "unknown           288\n",
       "Name: job, dtype: int64"
      ]
     },
     "execution_count": 15,
     "metadata": {},
     "output_type": "execute_result"
    }
   ],
   "source": [
    "#Count values of client occupation\n",
    "data[\"job\"].value_counts()"
   ]
  },
  {
   "cell_type": "markdown",
   "metadata": {},
   "source": [
    "**Insights:** `We have most of the clients' profession information. Less than 1% of clients' occupation is listed as unknown.`"
   ]
  },
  {
   "cell_type": "code",
   "execution_count": 16,
   "metadata": {},
   "outputs": [
    {
     "data": {
      "text/plain": [
       "<AxesSubplot:xlabel='housing', ylabel='count'>"
      ]
     },
     "execution_count": 16,
     "metadata": {},
     "output_type": "execute_result"
    },
    {
     "data": {
      "image/png": "[encoded data removed]",
      "text/plain": [
       "<Figure size 432x288 with 1 Axes>"
      ]
     },
     "metadata": {
      "needs_background": "light"
     },
     "output_type": "display_data"
    }
   ],
   "source": [
    "#Plot of those with housing loans\n",
    "sns.countplot(data['housing'])"
   ]
  },
  {
   "cell_type": "code",
   "execution_count": 17,
   "metadata": {},
   "outputs": [
    {
     "data": {
      "text/plain": [
       "yes    25130\n",
       "no     20081\n",
       "Name: housing, dtype: int64"
      ]
     },
     "execution_count": 17,
     "metadata": {},
     "output_type": "execute_result"
    }
   ],
   "source": [
    "#Count values of clients with housing loan\n",
    "data[\"housing\"].value_counts()"
   ]
  },
  {
   "cell_type": "code",
   "execution_count": 18,
   "metadata": {},
   "outputs": [
    {
     "data": {
      "text/plain": [
       "<AxesSubplot:xlabel='loan', ylabel='count'>"
      ]
     },
     "execution_count": 18,
     "metadata": {},
     "output_type": "execute_result"
    },
    {
     "data": {
      "image/png": "[encoded data removed]",
      "text/plain": [
       "<Figure size 432x288 with 1 Axes>"
      ]
     },
     "metadata": {
      "needs_background": "light"
     },
     "output_type": "display_data"
    }
   ],
   "source": [
    "#Plot of those with personal loans\n",
    "sns.countplot(data['loan'])"
   ]
  },
  {
   "cell_type": "markdown",
   "metadata": {},
   "source": [
    "**Insights:** `The percentage between clients' with and without a housing loan is close. But a lot less clients have personal loans.`"
   ]
  },
  {
   "cell_type": "markdown",
   "metadata": {},
   "source": [
    "### 2. Multivariate analysis (8 marks)\n",
    "- Bi-variate analysis between the predictor variables and target column. Comment on your findings in terms of their relationship and degree of relation if any. Visualize the analysis using boxplots and pair plots, histograms or density curves. Select the most appropriate attributes.\n",
    "- Please provide comments in jupyter notebook regarding the steps you take and insights drawn from the plots"
   ]
  },
  {
   "cell_type": "code",
   "execution_count": 19,
   "metadata": {},
   "outputs": [
    {
     "data": {
      "image/png": "[encoded data removed]",
      "text/plain": [
       "<Figure size 432x288 with 1 Axes>"
      ]
     },
     "metadata": {
      "needs_background": "light"
     },
     "output_type": "display_data"
    }
   ],
   "source": [
    "#Check correlation between having a personal loan and Target value\n",
    "sns.countplot(data['Target'],hue=data['loan']);"
   ]
  },
  {
   "cell_type": "markdown",
   "metadata": {},
   "source": [
    "**Insights:** `Of those who would have a term deposit, more are likely to not have a personal loan.`"
   ]
  },
  {
   "cell_type": "code",
   "execution_count": 20,
   "metadata": {},
   "outputs": [
    {
     "data": {
      "image/png": "[encoded data removed]",
      "text/plain": [
       "<Figure size 432x288 with 1 Axes>"
      ]
     },
     "metadata": {
      "needs_background": "light"
     },
     "output_type": "display_data"
    }
   ],
   "source": [
    "#Check correlation between having a personal loan and Target value\n",
    "sns.countplot(data['Target'],hue=data['housing']);"
   ]
  },
  {
   "cell_type": "markdown",
   "metadata": {},
   "source": [
    "**Insights:** `Of those who would have a term deposit, more are likely to not have a housing loan.`"
   ]
  },
  {
   "cell_type": "code",
   "execution_count": 21,
   "metadata": {},
   "outputs": [
    {
     "data": {
      "image/png": "[encoded data removed]",
      "text/plain": [
       "<Figure size 432x288 with 1 Axes>"
      ]
     },
     "metadata": {
      "needs_background": "light"
     },
     "output_type": "display_data"
    }
   ],
   "source": [
    "#Correlation between age and Target\n",
    "sns.boxplot(data['Target'], data['age']);"
   ]
  },
  {
   "cell_type": "markdown",
   "metadata": {},
   "source": [
    "**Insights:** `It seems as though age doesn't have a strong affect on the Target`"
   ]
  },
  {
   "cell_type": "code",
   "execution_count": 22,
   "metadata": {},
   "outputs": [
    {
     "data": {
      "image/png": "[encoded data removed]",
      "text/plain": [
       "<Figure size 432x288 with 1 Axes>"
      ]
     },
     "metadata": {
      "needs_background": "light"
     },
     "output_type": "display_data"
    }
   ],
   "source": [
    "#Count of default against Target\n",
    "sns.countplot(data['Target'],hue=data['default']);"
   ]
  },
  {
   "cell_type": "markdown",
   "metadata": {},
   "source": [
    "**Insights:** `Of those who would have a term deposit most have not defaulted on a loan.`"
   ]
  },
  {
   "cell_type": "markdown",
   "metadata": {},
   "source": [
    "## Deliverable – 2 (Prepare the data for analytics) – (10)\n",
    "1. Ensure the attribute types are correct. If not, take appropriate actions.\n",
    "2. Get the data model ready.\n",
    "3. Transform the data i.e. scale / normalize if required\n",
    "4. Create the training set and test set in ratio of 70:30"
   ]
  },
  {
   "cell_type": "code",
   "execution_count": 23,
   "metadata": {},
   "outputs": [],
   "source": [
    "#Replacing object values for int values\n",
    "replaceStruct = {\n",
    "                \"education\": {\"primary\": 1,\"secondary\": 2, \"tertiary\": 3, \"unknown\":-1},\n",
    "                \"housing\": {\"no\": 0, \"yes\": 1},\n",
    "                 \"loan\": {\"no\": 0, \"yes\":1},\n",
    "                 \"month\": {\"jan\": 1, \"feb\": 2, \"mar\": 3,\"apr\": 4,\"may\": 5, \"jun\": 6, \n",
    "                           \"jul\": 7 ,\"aug\": 8, \"sep\": 9,\"oct\": 10, \"nov\": 11, \"dec\": 12},\n",
    "                \"phone\": {\"no\": 1, \"yes\": 2 },\n",
    "                \"default\": {\"no\": 0, \"yes\": 1 },\n",
    "                \"Target\": {\"no\": 0, \"yes\": 1}\n",
    "                }\n",
    "\n",
    "oneHotCols=[\"job\", \"marital\", \"contact\",\"poutcome\"]"
   ]
  },
  {
   "cell_type": "code",
   "execution_count": 24,
   "metadata": {},
   "outputs": [
    {
     "data": {
      "text/html": [
       "<div>\n",
       "<style scoped>\n",
       "    .dataframe tbody tr th:only-of-type {\n",
       "        vertical-align: middle;\n",
       "    }\n",
       "\n",
       "    .dataframe tbody tr th {\n",
       "        vertical-align: top;\n",
       "    }\n",
       "\n",
       "    .dataframe thead th {\n",
       "        text-align: right;\n",
       "    }\n",
       "</style>\n",
       "<table border=\"1\" class=\"dataframe\">\n",
       "  <thead>\n",
       "    <tr style=\"text-align: right;\">\n",
       "      <th></th>\n",
       "      <th>age</th>\n",
       "      <th>education</th>\n",
       "      <th>default</th>\n",
       "      <th>balance</th>\n",
       "      <th>housing</th>\n",
       "      <th>loan</th>\n",
       "      <th>day</th>\n",
       "      <th>month</th>\n",
       "      <th>duration</th>\n",
       "      <th>campaign</th>\n",
       "      <th>...</th>\n",
       "      <th>marital_divorced</th>\n",
       "      <th>marital_married</th>\n",
       "      <th>marital_single</th>\n",
       "      <th>contact_cellular</th>\n",
       "      <th>contact_telephone</th>\n",
       "      <th>contact_unknown</th>\n",
       "      <th>poutcome_failure</th>\n",
       "      <th>poutcome_other</th>\n",
       "      <th>poutcome_success</th>\n",
       "      <th>poutcome_unknown</th>\n",
       "    </tr>\n",
       "  </thead>\n",
       "  <tbody>\n",
       "    <tr>\n",
       "      <th>0</th>\n",
       "      <td>58</td>\n",
       "      <td>3</td>\n",
       "      <td>0</td>\n",
       "      <td>2143</td>\n",
       "      <td>1</td>\n",
       "      <td>0</td>\n",
       "      <td>5</td>\n",
       "      <td>5</td>\n",
       "      <td>261</td>\n",
       "      <td>1</td>\n",
       "      <td>...</td>\n",
       "      <td>0</td>\n",
       "      <td>1</td>\n",
       "      <td>0</td>\n",
       "      <td>0</td>\n",
       "      <td>0</td>\n",
       "      <td>1</td>\n",
       "      <td>0</td>\n",
       "      <td>0</td>\n",
       "      <td>0</td>\n",
       "      <td>1</td>\n",
       "    </tr>\n",
       "    <tr>\n",
       "      <th>1</th>\n",
       "      <td>44</td>\n",
       "      <td>2</td>\n",
       "      <td>0</td>\n",
       "      <td>29</td>\n",
       "      <td>1</td>\n",
       "      <td>0</td>\n",
       "      <td>5</td>\n",
       "      <td>5</td>\n",
       "      <td>151</td>\n",
       "      <td>1</td>\n",
       "      <td>...</td>\n",
       "      <td>0</td>\n",
       "      <td>0</td>\n",
       "      <td>1</td>\n",
       "      <td>0</td>\n",
       "      <td>0</td>\n",
       "      <td>1</td>\n",
       "      <td>0</td>\n",
       "      <td>0</td>\n",
       "      <td>0</td>\n",
       "      <td>1</td>\n",
       "    </tr>\n",
       "    <tr>\n",
       "      <th>2</th>\n",
       "      <td>33</td>\n",
       "      <td>2</td>\n",
       "      <td>0</td>\n",
       "      <td>2</td>\n",
       "      <td>1</td>\n",
       "      <td>1</td>\n",
       "      <td>5</td>\n",
       "      <td>5</td>\n",
       "      <td>76</td>\n",
       "      <td>1</td>\n",
       "      <td>...</td>\n",
       "      <td>0</td>\n",
       "      <td>1</td>\n",
       "      <td>0</td>\n",
       "      <td>0</td>\n",
       "      <td>0</td>\n",
       "      <td>1</td>\n",
       "      <td>0</td>\n",
       "      <td>0</td>\n",
       "      <td>0</td>\n",
       "      <td>1</td>\n",
       "    </tr>\n",
       "    <tr>\n",
       "      <th>3</th>\n",
       "      <td>47</td>\n",
       "      <td>-1</td>\n",
       "      <td>0</td>\n",
       "      <td>1506</td>\n",
       "      <td>1</td>\n",
       "      <td>0</td>\n",
       "      <td>5</td>\n",
       "      <td>5</td>\n",
       "      <td>92</td>\n",
       "      <td>1</td>\n",
       "      <td>...</td>\n",
       "      <td>0</td>\n",
       "      <td>1</td>\n",
       "      <td>0</td>\n",
       "      <td>0</td>\n",
       "      <td>0</td>\n",
       "      <td>1</td>\n",
       "      <td>0</td>\n",
       "      <td>0</td>\n",
       "      <td>0</td>\n",
       "      <td>1</td>\n",
       "    </tr>\n",
       "    <tr>\n",
       "      <th>4</th>\n",
       "      <td>33</td>\n",
       "      <td>-1</td>\n",
       "      <td>0</td>\n",
       "      <td>1</td>\n",
       "      <td>0</td>\n",
       "      <td>0</td>\n",
       "      <td>5</td>\n",
       "      <td>5</td>\n",
       "      <td>198</td>\n",
       "      <td>1</td>\n",
       "      <td>...</td>\n",
       "      <td>0</td>\n",
       "      <td>0</td>\n",
       "      <td>1</td>\n",
       "      <td>0</td>\n",
       "      <td>0</td>\n",
       "      <td>1</td>\n",
       "      <td>0</td>\n",
       "      <td>0</td>\n",
       "      <td>0</td>\n",
       "      <td>1</td>\n",
       "    </tr>\n",
       "    <tr>\n",
       "      <th>5</th>\n",
       "      <td>35</td>\n",
       "      <td>3</td>\n",
       "      <td>0</td>\n",
       "      <td>231</td>\n",
       "      <td>1</td>\n",
       "      <td>0</td>\n",
       "      <td>5</td>\n",
       "      <td>5</td>\n",
       "      <td>139</td>\n",
       "      <td>1</td>\n",
       "      <td>...</td>\n",
       "      <td>0</td>\n",
       "      <td>1</td>\n",
       "      <td>0</td>\n",
       "      <td>0</td>\n",
       "      <td>0</td>\n",
       "      <td>1</td>\n",
       "      <td>0</td>\n",
       "      <td>0</td>\n",
       "      <td>0</td>\n",
       "      <td>1</td>\n",
       "    </tr>\n",
       "    <tr>\n",
       "      <th>6</th>\n",
       "      <td>28</td>\n",
       "      <td>3</td>\n",
       "      <td>0</td>\n",
       "      <td>447</td>\n",
       "      <td>1</td>\n",
       "      <td>1</td>\n",
       "      <td>5</td>\n",
       "      <td>5</td>\n",
       "      <td>217</td>\n",
       "      <td>1</td>\n",
       "      <td>...</td>\n",
       "      <td>0</td>\n",
       "      <td>0</td>\n",
       "      <td>1</td>\n",
       "      <td>0</td>\n",
       "      <td>0</td>\n",
       "      <td>1</td>\n",
       "      <td>0</td>\n",
       "      <td>0</td>\n",
       "      <td>0</td>\n",
       "      <td>1</td>\n",
       "    </tr>\n",
       "    <tr>\n",
       "      <th>7</th>\n",
       "      <td>42</td>\n",
       "      <td>3</td>\n",
       "      <td>1</td>\n",
       "      <td>2</td>\n",
       "      <td>1</td>\n",
       "      <td>0</td>\n",
       "      <td>5</td>\n",
       "      <td>5</td>\n",
       "      <td>380</td>\n",
       "      <td>1</td>\n",
       "      <td>...</td>\n",
       "      <td>1</td>\n",
       "      <td>0</td>\n",
       "      <td>0</td>\n",
       "      <td>0</td>\n",
       "      <td>0</td>\n",
       "      <td>1</td>\n",
       "      <td>0</td>\n",
       "      <td>0</td>\n",
       "      <td>0</td>\n",
       "      <td>1</td>\n",
       "    </tr>\n",
       "    <tr>\n",
       "      <th>8</th>\n",
       "      <td>58</td>\n",
       "      <td>1</td>\n",
       "      <td>0</td>\n",
       "      <td>121</td>\n",
       "      <td>1</td>\n",
       "      <td>0</td>\n",
       "      <td>5</td>\n",
       "      <td>5</td>\n",
       "      <td>50</td>\n",
       "      <td>1</td>\n",
       "      <td>...</td>\n",
       "      <td>0</td>\n",
       "      <td>1</td>\n",
       "      <td>0</td>\n",
       "      <td>0</td>\n",
       "      <td>0</td>\n",
       "      <td>1</td>\n",
       "      <td>0</td>\n",
       "      <td>0</td>\n",
       "      <td>0</td>\n",
       "      <td>1</td>\n",
       "    </tr>\n",
       "    <tr>\n",
       "      <th>9</th>\n",
       "      <td>43</td>\n",
       "      <td>2</td>\n",
       "      <td>0</td>\n",
       "      <td>593</td>\n",
       "      <td>1</td>\n",
       "      <td>0</td>\n",
       "      <td>5</td>\n",
       "      <td>5</td>\n",
       "      <td>55</td>\n",
       "      <td>1</td>\n",
       "      <td>...</td>\n",
       "      <td>0</td>\n",
       "      <td>0</td>\n",
       "      <td>1</td>\n",
       "      <td>0</td>\n",
       "      <td>0</td>\n",
       "      <td>1</td>\n",
       "      <td>0</td>\n",
       "      <td>0</td>\n",
       "      <td>0</td>\n",
       "      <td>1</td>\n",
       "    </tr>\n",
       "  </tbody>\n",
       "</table>\n",
       "<p>10 rows × 35 columns</p>\n",
       "</div>"
      ],
      "text/plain": [
       "   age  education  default  balance  housing  loan  day  month  duration  \\\n",
       "0   58          3        0     2143        1     0    5      5       261   \n",
       "1   44          2        0       29        1     0    5      5       151   \n",
       "2   33          2        0        2        1     1    5      5        76   \n",
       "3   47         -1        0     1506        1     0    5      5        92   \n",
       "4   33         -1        0        1        0     0    5      5       198   \n",
       "5   35          3        0      231        1     0    5      5       139   \n",
       "6   28          3        0      447        1     1    5      5       217   \n",
       "7   42          3        1        2        1     0    5      5       380   \n",
       "8   58          1        0      121        1     0    5      5        50   \n",
       "9   43          2        0      593        1     0    5      5        55   \n",
       "\n",
       "   campaign  ...  marital_divorced  marital_married  marital_single  \\\n",
       "0         1  ...                 0                1               0   \n",
       "1         1  ...                 0                0               1   \n",
       "2         1  ...                 0                1               0   \n",
       "3         1  ...                 0                1               0   \n",
       "4         1  ...                 0                0               1   \n",
       "5         1  ...                 0                1               0   \n",
       "6         1  ...                 0                0               1   \n",
       "7         1  ...                 1                0               0   \n",
       "8         1  ...                 0                1               0   \n",
       "9         1  ...                 0                0               1   \n",
       "\n",
       "   contact_cellular  contact_telephone  contact_unknown  poutcome_failure  \\\n",
       "0                 0                  0                1                 0   \n",
       "1                 0                  0                1                 0   \n",
       "2                 0                  0                1                 0   \n",
       "3                 0                  0                1                 0   \n",
       "4                 0                  0                1                 0   \n",
       "5                 0                  0                1                 0   \n",
       "6                 0                  0                1                 0   \n",
       "7                 0                  0                1                 0   \n",
       "8                 0                  0                1                 0   \n",
       "9                 0                  0                1                 0   \n",
       "\n",
       "   poutcome_other  poutcome_success  poutcome_unknown  \n",
       "0               0                 0                 1  \n",
       "1               0                 0                 1  \n",
       "2               0                 0                 1  \n",
       "3               0                 0                 1  \n",
       "4               0                 0                 1  \n",
       "5               0                 0                 1  \n",
       "6               0                 0                 1  \n",
       "7               0                 0                 1  \n",
       "8               0                 0                 1  \n",
       "9               0                 0                 1  \n",
       "\n",
       "[10 rows x 35 columns]"
      ]
     },
     "execution_count": 24,
     "metadata": {},
     "output_type": "execute_result"
    }
   ],
   "source": [
    "prep_data=data.replace(replaceStruct)\n",
    "prep_data=pd.get_dummies(prep_data, columns=oneHotCols)\n",
    "prep_data.head(10)"
   ]
  },
  {
   "cell_type": "code",
   "execution_count": 29,
   "metadata": {},
   "outputs": [],
   "source": [
    "#Separate dependent and independent variables\n",
    "X = prep_data.drop(\"Target\",axis=1)\n",
    "Y = prep_data['Target'].astype('category')"
   ]
  },
  {
   "cell_type": "code",
   "execution_count": 30,
   "metadata": {},
   "outputs": [],
   "source": [
    "X = pd.get_dummies(X, drop_first=True)"
   ]
  },
  {
   "cell_type": "code",
   "execution_count": 32,
   "metadata": {},
   "outputs": [
    {
     "name": "stdout",
     "output_type": "stream",
     "text": [
      "Optimization terminated successfully.\n",
      "         Current function value: 0.250851\n",
      "         Iterations 8\n"
     ]
    },
    {
     "data": {
      "text/html": [
       "<table class=\"simpletable\">\n",
       "<tr>\n",
       "        <td>Model:</td>              <td>Logit</td>      <td>Pseudo R-squared:</td>    <td>0.306</td>  \n",
       "</tr>\n",
       "<tr>\n",
       "  <td>Dependent Variable:</td>      <td>Target</td>            <td>AIC:</td>        <td>15939.3829</td>\n",
       "</tr>\n",
       "<tr>\n",
       "         <td>Date:</td>        <td>2020-10-09 18:32</td>       <td>BIC:</td>        <td>16198.6172</td>\n",
       "</tr>\n",
       "<tr>\n",
       "   <td>No. Observations:</td>        <td>31647</td>       <td>Log-Likelihood:</td>    <td>-7938.7</td> \n",
       "</tr>\n",
       "<tr>\n",
       "       <td>Df Model:</td>             <td>30</td>            <td>LL-Null:</td>        <td>-11446.</td> \n",
       "</tr>\n",
       "<tr>\n",
       "     <td>Df Residuals:</td>          <td>31616</td>        <td>LLR p-value:</td>      <td>0.0000</td>  \n",
       "</tr>\n",
       "<tr>\n",
       "      <td>Converged:</td>           <td>1.0000</td>           <td>Scale:</td>         <td>1.0000</td>  \n",
       "</tr>\n",
       "<tr>\n",
       "    <td>No. Iterations:</td>        <td>8.0000</td>              <td></td>               <td></td>     \n",
       "</tr>\n",
       "</table>\n",
       "<table class=\"simpletable\">\n",
       "<tr>\n",
       "          <td></td>           <th>Coef.</th>    <th>Std.Err.</th>       <th>z</th>     <th>P>|z|</th>    <th>[0.025</th>        <th>0.975]</th>   \n",
       "</tr>\n",
       "<tr>\n",
       "  <th>const</th>             <td>-2.3163</td>      <td>nan</td>        <td>nan</td>     <td>nan</td>       <td>nan</td>           <td>nan</td>    \n",
       "</tr>\n",
       "<tr>\n",
       "  <th>age</th>               <td>0.0010</td>     <td>0.0026</td>     <td>0.3900</td>  <td>0.6966</td>    <td>-0.0040</td>       <td>0.0060</td>   \n",
       "</tr>\n",
       "<tr>\n",
       "  <th>education</th>         <td>0.0606</td>     <td>0.0268</td>     <td>2.2570</td>  <td>0.0240</td>    <td>0.0080</td>        <td>0.1132</td>   \n",
       "</tr>\n",
       "<tr>\n",
       "  <th>default</th>           <td>-0.0559</td>    <td>0.1823</td>     <td>-0.3067</td> <td>0.7591</td>    <td>-0.4133</td>       <td>0.3014</td>   \n",
       "</tr>\n",
       "<tr>\n",
       "  <th>balance</th>           <td>0.0000</td>     <td>0.0000</td>     <td>3.1124</td>  <td>0.0019</td>    <td>0.0000</td>        <td>0.0000</td>   \n",
       "</tr>\n",
       "<tr>\n",
       "  <th>housing</th>           <td>-0.7831</td>    <td>0.0473</td>    <td>-16.5589</td> <td>0.0000</td>    <td>-0.8758</td>       <td>-0.6904</td>  \n",
       "</tr>\n",
       "<tr>\n",
       "  <th>loan</th>              <td>-0.6375</td>    <td>0.0699</td>     <td>-9.1156</td> <td>0.0000</td>    <td>-0.7746</td>       <td>-0.5004</td>  \n",
       "</tr>\n",
       "<tr>\n",
       "  <th>day</th>               <td>-0.0047</td>    <td>0.0025</td>     <td>-1.8317</td> <td>0.0670</td>    <td>-0.0097</td>       <td>0.0003</td>   \n",
       "</tr>\n",
       "<tr>\n",
       "  <th>month</th>             <td>-0.0190</td>    <td>0.0080</td>     <td>-2.3728</td> <td>0.0177</td>    <td>-0.0347</td>       <td>-0.0033</td>  \n",
       "</tr>\n",
       "<tr>\n",
       "  <th>duration</th>          <td>0.0040</td>     <td>0.0001</td>     <td>53.9006</td> <td>0.0000</td>    <td>0.0039</td>        <td>0.0042</td>   \n",
       "</tr>\n",
       "<tr>\n",
       "  <th>campaign</th>          <td>-0.0963</td>    <td>0.0116</td>     <td>-8.3043</td> <td>0.0000</td>    <td>-0.1190</td>       <td>-0.0736</td>  \n",
       "</tr>\n",
       "<tr>\n",
       "  <th>pdays</th>             <td>0.0003</td>     <td>0.0004</td>     <td>0.7199</td>  <td>0.4716</td>    <td>-0.0004</td>       <td>0.0010</td>   \n",
       "</tr>\n",
       "<tr>\n",
       "  <th>previous</th>          <td>0.0063</td>     <td>0.0064</td>     <td>0.9861</td>  <td>0.3241</td>    <td>-0.0062</td>       <td>0.0188</td>   \n",
       "</tr>\n",
       "<tr>\n",
       "  <th>job_admin.</th>        <td>1.2292</td>       <td>nan</td>        <td>nan</td>     <td>nan</td>       <td>nan</td>           <td>nan</td>    \n",
       "</tr>\n",
       "<tr>\n",
       "  <th>job_blue-collar</th>   <td>0.7689</td>       <td>nan</td>        <td>nan</td>     <td>nan</td>       <td>nan</td>           <td>nan</td>    \n",
       "</tr>\n",
       "<tr>\n",
       "  <th>job_entrepreneur</th>  <td>0.9028</td>       <td>nan</td>        <td>nan</td>     <td>nan</td>       <td>nan</td>           <td>nan</td>    \n",
       "</tr>\n",
       "<tr>\n",
       "  <th>job_housemaid</th>     <td>0.7754</td>       <td>nan</td>        <td>nan</td>     <td>nan</td>       <td>nan</td>           <td>nan</td>    \n",
       "</tr>\n",
       "<tr>\n",
       "  <th>job_management</th>    <td>1.1221</td>       <td>nan</td>        <td>nan</td>     <td>nan</td>       <td>nan</td>           <td>nan</td>    \n",
       "</tr>\n",
       "<tr>\n",
       "  <th>job_retired</th>       <td>1.5679</td>       <td>nan</td>        <td>nan</td>     <td>nan</td>       <td>nan</td>           <td>nan</td>    \n",
       "</tr>\n",
       "<tr>\n",
       "  <th>job_self-employed</th> <td>0.9728</td>       <td>nan</td>        <td>nan</td>     <td>nan</td>       <td>nan</td>           <td>nan</td>    \n",
       "</tr>\n",
       "<tr>\n",
       "  <th>job_services</th>      <td>0.8675</td>       <td>nan</td>        <td>nan</td>     <td>nan</td>       <td>nan</td>           <td>nan</td>    \n",
       "</tr>\n",
       "<tr>\n",
       "  <th>job_student</th>       <td>1.7270</td>       <td>nan</td>        <td>nan</td>     <td>nan</td>       <td>nan</td>           <td>nan</td>    \n",
       "</tr>\n",
       "<tr>\n",
       "  <th>job_technician</th>    <td>1.0227</td>       <td>nan</td>        <td>nan</td>     <td>nan</td>       <td>nan</td>           <td>nan</td>    \n",
       "</tr>\n",
       "<tr>\n",
       "  <th>job_unemployed</th>    <td>0.8910</td>       <td>nan</td>        <td>nan</td>     <td>nan</td>       <td>nan</td>           <td>nan</td>    \n",
       "</tr>\n",
       "<tr>\n",
       "  <th>job_unknown</th>       <td>1.0337</td>       <td>nan</td>        <td>nan</td>     <td>nan</td>       <td>nan</td>           <td>nan</td>    \n",
       "</tr>\n",
       "<tr>\n",
       "  <th>marital_divorced</th>  <td>-0.3796</td> <td>1731973.9729</td>  <td>-0.0000</td> <td>1.0000</td> <td>-3394606.9887</td> <td>3394606.2294</td>\n",
       "</tr>\n",
       "<tr>\n",
       "  <th>marital_married</th>   <td>-0.5541</td> <td>1616058.7688</td>  <td>-0.0000</td> <td>1.0000</td> <td>-3167417.5379</td> <td>3167416.4297</td>\n",
       "</tr>\n",
       "<tr>\n",
       "  <th>marital_single</th>    <td>-0.2136</td> <td>1592749.0993</td>  <td>-0.0000</td> <td>1.0000</td> <td>-3121731.0845</td> <td>3121730.6574</td>\n",
       "</tr>\n",
       "<tr>\n",
       "  <th>contact_cellular</th>  <td>0.0571</td>  <td>1312900.2389</td>  <td>0.0000</td>  <td>1.0000</td> <td>-2573237.1263</td> <td>2573237.2406</td>\n",
       "</tr>\n",
       "<tr>\n",
       "  <th>contact_telephone</th> <td>-0.0745</td> <td>1312900.2389</td>  <td>-0.0000</td> <td>1.0000</td> <td>-2573237.2579</td> <td>2573237.1089</td>\n",
       "</tr>\n",
       "<tr>\n",
       "  <th>contact_unknown</th>   <td>-1.1299</td> <td>1312900.2389</td>  <td>-0.0000</td> <td>1.0000</td> <td>-2573238.3133</td> <td>2573236.0535</td>\n",
       "</tr>\n",
       "<tr>\n",
       "  <th>poutcome_failure</th>  <td>-0.8806</td> <td>1161836.0241</td>  <td>-0.0000</td> <td>1.0000</td> <td>-2277157.6437</td> <td>2277155.8825</td>\n",
       "</tr>\n",
       "<tr>\n",
       "  <th>poutcome_other</th>    <td>-0.6384</td> <td>1161836.0241</td>  <td>-0.0000</td> <td>1.0000</td> <td>-2277157.4015</td> <td>2277156.1248</td>\n",
       "</tr>\n",
       "<tr>\n",
       "  <th>poutcome_success</th>  <td>1.4800</td>  <td>1161836.0241</td>  <td>0.0000</td>  <td>1.0000</td> <td>-2277155.2832</td> <td>2277158.2431</td>\n",
       "</tr>\n",
       "<tr>\n",
       "  <th>poutcome_unknown</th>  <td>-1.1083</td> <td>1161836.0241</td>  <td>-0.0000</td> <td>1.0000</td> <td>-2277157.8714</td> <td>2277155.6549</td>\n",
       "</tr>\n",
       "</table>"
      ],
      "text/plain": [
       "<class 'statsmodels.iolib.summary2.Summary'>\n",
       "\"\"\"\n",
       "                                 Results: Logit\n",
       "=================================================================================\n",
       "Model:                    Logit                 Pseudo R-squared:      0.306     \n",
       "Dependent Variable:       Target                AIC:                   15939.3829\n",
       "Date:                     2020-10-09 18:32      BIC:                   16198.6172\n",
       "No. Observations:         31647                 Log-Likelihood:        -7938.7   \n",
       "Df Model:                 30                    LL-Null:               -11446.   \n",
       "Df Residuals:             31616                 LLR p-value:           0.0000    \n",
       "Converged:                1.0000                Scale:                 1.0000    \n",
       "No. Iterations:           8.0000                                                 \n",
       "---------------------------------------------------------------------------------\n",
       "                   Coef.    Std.Err.      z     P>|z|      [0.025       0.975]   \n",
       "---------------------------------------------------------------------------------\n",
       "const             -2.3163          nan      nan    nan           nan          nan\n",
       "age                0.0010       0.0026   0.3900 0.6966       -0.0040       0.0060\n",
       "education          0.0606       0.0268   2.2570 0.0240        0.0080       0.1132\n",
       "default           -0.0559       0.1823  -0.3067 0.7591       -0.4133       0.3014\n",
       "balance            0.0000       0.0000   3.1124 0.0019        0.0000       0.0000\n",
       "housing           -0.7831       0.0473 -16.5589 0.0000       -0.8758      -0.6904\n",
       "loan              -0.6375       0.0699  -9.1156 0.0000       -0.7746      -0.5004\n",
       "day               -0.0047       0.0025  -1.8317 0.0670       -0.0097       0.0003\n",
       "month             -0.0190       0.0080  -2.3728 0.0177       -0.0347      -0.0033\n",
       "duration           0.0040       0.0001  53.9006 0.0000        0.0039       0.0042\n",
       "campaign          -0.0963       0.0116  -8.3043 0.0000       -0.1190      -0.0736\n",
       "pdays              0.0003       0.0004   0.7199 0.4716       -0.0004       0.0010\n",
       "previous           0.0063       0.0064   0.9861 0.3241       -0.0062       0.0188\n",
       "job_admin.         1.2292          nan      nan    nan           nan          nan\n",
       "job_blue-collar    0.7689          nan      nan    nan           nan          nan\n",
       "job_entrepreneur   0.9028          nan      nan    nan           nan          nan\n",
       "job_housemaid      0.7754          nan      nan    nan           nan          nan\n",
       "job_management     1.1221          nan      nan    nan           nan          nan\n",
       "job_retired        1.5679          nan      nan    nan           nan          nan\n",
       "job_self-employed  0.9728          nan      nan    nan           nan          nan\n",
       "job_services       0.8675          nan      nan    nan           nan          nan\n",
       "job_student        1.7270          nan      nan    nan           nan          nan\n",
       "job_technician     1.0227          nan      nan    nan           nan          nan\n",
       "job_unemployed     0.8910          nan      nan    nan           nan          nan\n",
       "job_unknown        1.0337          nan      nan    nan           nan          nan\n",
       "marital_divorced  -0.3796 1731973.9729  -0.0000 1.0000 -3394606.9887 3394606.2294\n",
       "marital_married   -0.5541 1616058.7688  -0.0000 1.0000 -3167417.5379 3167416.4297\n",
       "marital_single    -0.2136 1592749.0993  -0.0000 1.0000 -3121731.0845 3121730.6574\n",
       "contact_cellular   0.0571 1312900.2389   0.0000 1.0000 -2573237.1263 2573237.2406\n",
       "contact_telephone -0.0745 1312900.2389  -0.0000 1.0000 -2573237.2579 2573237.1089\n",
       "contact_unknown   -1.1299 1312900.2389  -0.0000 1.0000 -2573238.3133 2573236.0535\n",
       "poutcome_failure  -0.8806 1161836.0241  -0.0000 1.0000 -2277157.6437 2277155.8825\n",
       "poutcome_other    -0.6384 1161836.0241  -0.0000 1.0000 -2277157.4015 2277156.1248\n",
       "poutcome_success   1.4800 1161836.0241   0.0000 1.0000 -2277155.2832 2277158.2431\n",
       "poutcome_unknown  -1.1083 1161836.0241  -0.0000 1.0000 -2277157.8714 2277155.6549\n",
       "=================================================================================\n",
       "\n",
       "\"\"\""
      ]
     },
     "execution_count": 32,
     "metadata": {},
     "output_type": "execute_result"
    }
   ],
   "source": [
    "#Split data into train and test set\n",
    "from sklearn.model_selection import train_test_split\n",
    "import statsmodels.api as sm\n",
    "\n",
    "x_train, x_test, y_train, y_test = train_test_split(X, Y, test_size = 0.3, random_state = 12)\n",
    "\n",
    "logit = sm.Logit( y_train, sm.add_constant( x_train ))\n",
    "\n",
    "lg = logit.fit()\n",
    "\n",
    "lg.summary2()"
   ]
  },
  {
   "cell_type": "markdown",
   "metadata": {},
   "source": [
    "## Deliverable – 3 (create the ensemble model) – (30)\n",
    "1. First create models using Logistic Regression and Decision Tree algorithm. Note the model performance by using different matrices. Use confusion matrix to evaluate class level metrics i.e. Precision/Recall. Also reflect the accuracy and F1 score of the model. **(10 marks)**\n",
    "2. Build the ensemble models (Bagging and Boosting) and note the model performance by using different matrices. Use same metrics as in above model. (at least 3 algorithms) **(15 marks)**\n",
    "3. Make a DataFrame to compare models and their metrics. Give conclusion regarding the best algorithm and your reason behind it. **(5 marks)**"
   ]
  },
  {
   "cell_type": "markdown",
   "metadata": {},
   "source": [
    "### Logistic Regression model"
   ]
  },
  {
   "cell_type": "code",
   "execution_count": 41,
   "metadata": {},
   "outputs": [
    {
     "data": {
      "text/plain": [
       "LogisticRegression(C=1.0, class_weight=None, dual=False, fit_intercept=True,\n",
       "                   intercept_scaling=1, l1_ratio=None, max_iter=100,\n",
       "                   multi_class='auto', n_jobs=None, penalty='l2',\n",
       "                   random_state=12, solver='lbfgs', tol=0.0001, verbose=0,\n",
       "                   warm_start=False)"
      ]
     },
     "execution_count": 41,
     "metadata": {},
     "output_type": "execute_result"
    }
   ],
   "source": [
    "#Using a logistic regression model on the training data\n",
    "\n",
    "from sklearn.metrics import confusion_matrix, recall_score, precision_score, f1_score, roc_auc_score, accuracy_score\n",
    "from sklearn.linear_model import LogisticRegression as lr\n",
    "\n",
    "lr_model = lr(random_state = 12)\n",
    "lr_model.fit(x_train, y_train)"
   ]
  },
  {
   "cell_type": "code",
   "execution_count": 42,
   "metadata": {},
   "outputs": [],
   "source": [
    "#Making a prediction on the target variable\n",
    "y_predict = lr_model.predict(x_test)"
   ]
  },
  {
   "cell_type": "code",
   "execution_count": 43,
   "metadata": {},
   "outputs": [
    {
     "data": {
      "text/html": [
       "<div>\n",
       "<style scoped>\n",
       "    .dataframe tbody tr th:only-of-type {\n",
       "        vertical-align: middle;\n",
       "    }\n",
       "\n",
       "    .dataframe tbody tr th {\n",
       "        vertical-align: top;\n",
       "    }\n",
       "\n",
       "    .dataframe thead th {\n",
       "        text-align: right;\n",
       "    }\n",
       "</style>\n",
       "<table border=\"1\" class=\"dataframe\">\n",
       "  <thead>\n",
       "    <tr style=\"text-align: right;\">\n",
       "      <th></th>\n",
       "      <th>age</th>\n",
       "      <th>education</th>\n",
       "      <th>default</th>\n",
       "      <th>balance</th>\n",
       "      <th>housing</th>\n",
       "      <th>loan</th>\n",
       "      <th>day</th>\n",
       "      <th>month</th>\n",
       "      <th>duration</th>\n",
       "      <th>campaign</th>\n",
       "      <th>...</th>\n",
       "      <th>marital_single</th>\n",
       "      <th>contact_cellular</th>\n",
       "      <th>contact_telephone</th>\n",
       "      <th>contact_unknown</th>\n",
       "      <th>poutcome_failure</th>\n",
       "      <th>poutcome_other</th>\n",
       "      <th>poutcome_success</th>\n",
       "      <th>poutcome_unknown</th>\n",
       "      <th>Observed Target</th>\n",
       "      <th>Predicted Target</th>\n",
       "    </tr>\n",
       "  </thead>\n",
       "  <tbody>\n",
       "    <tr>\n",
       "      <th>38440</th>\n",
       "      <td>32</td>\n",
       "      <td>2</td>\n",
       "      <td>0</td>\n",
       "      <td>118</td>\n",
       "      <td>1</td>\n",
       "      <td>0</td>\n",
       "      <td>15</td>\n",
       "      <td>5</td>\n",
       "      <td>20</td>\n",
       "      <td>6</td>\n",
       "      <td>...</td>\n",
       "      <td>0</td>\n",
       "      <td>1</td>\n",
       "      <td>0</td>\n",
       "      <td>0</td>\n",
       "      <td>0</td>\n",
       "      <td>0</td>\n",
       "      <td>0</td>\n",
       "      <td>1</td>\n",
       "      <td>0</td>\n",
       "      <td>0</td>\n",
       "    </tr>\n",
       "    <tr>\n",
       "      <th>40402</th>\n",
       "      <td>78</td>\n",
       "      <td>1</td>\n",
       "      <td>0</td>\n",
       "      <td>2787</td>\n",
       "      <td>0</td>\n",
       "      <td>0</td>\n",
       "      <td>1</td>\n",
       "      <td>7</td>\n",
       "      <td>372</td>\n",
       "      <td>1</td>\n",
       "      <td>...</td>\n",
       "      <td>0</td>\n",
       "      <td>0</td>\n",
       "      <td>1</td>\n",
       "      <td>0</td>\n",
       "      <td>0</td>\n",
       "      <td>0</td>\n",
       "      <td>0</td>\n",
       "      <td>1</td>\n",
       "      <td>1</td>\n",
       "      <td>0</td>\n",
       "    </tr>\n",
       "    <tr>\n",
       "      <th>3708</th>\n",
       "      <td>31</td>\n",
       "      <td>3</td>\n",
       "      <td>0</td>\n",
       "      <td>144</td>\n",
       "      <td>1</td>\n",
       "      <td>0</td>\n",
       "      <td>16</td>\n",
       "      <td>5</td>\n",
       "      <td>676</td>\n",
       "      <td>1</td>\n",
       "      <td>...</td>\n",
       "      <td>1</td>\n",
       "      <td>0</td>\n",
       "      <td>0</td>\n",
       "      <td>1</td>\n",
       "      <td>0</td>\n",
       "      <td>0</td>\n",
       "      <td>0</td>\n",
       "      <td>1</td>\n",
       "      <td>1</td>\n",
       "      <td>0</td>\n",
       "    </tr>\n",
       "    <tr>\n",
       "      <th>37421</th>\n",
       "      <td>57</td>\n",
       "      <td>1</td>\n",
       "      <td>0</td>\n",
       "      <td>3777</td>\n",
       "      <td>1</td>\n",
       "      <td>0</td>\n",
       "      <td>13</td>\n",
       "      <td>5</td>\n",
       "      <td>65</td>\n",
       "      <td>2</td>\n",
       "      <td>...</td>\n",
       "      <td>1</td>\n",
       "      <td>0</td>\n",
       "      <td>1</td>\n",
       "      <td>0</td>\n",
       "      <td>0</td>\n",
       "      <td>0</td>\n",
       "      <td>0</td>\n",
       "      <td>1</td>\n",
       "      <td>0</td>\n",
       "      <td>0</td>\n",
       "    </tr>\n",
       "    <tr>\n",
       "      <th>12526</th>\n",
       "      <td>45</td>\n",
       "      <td>2</td>\n",
       "      <td>0</td>\n",
       "      <td>-705</td>\n",
       "      <td>0</td>\n",
       "      <td>1</td>\n",
       "      <td>3</td>\n",
       "      <td>7</td>\n",
       "      <td>111</td>\n",
       "      <td>1</td>\n",
       "      <td>...</td>\n",
       "      <td>0</td>\n",
       "      <td>0</td>\n",
       "      <td>0</td>\n",
       "      <td>1</td>\n",
       "      <td>0</td>\n",
       "      <td>0</td>\n",
       "      <td>0</td>\n",
       "      <td>1</td>\n",
       "      <td>0</td>\n",
       "      <td>0</td>\n",
       "    </tr>\n",
       "    <tr>\n",
       "      <th>16012</th>\n",
       "      <td>32</td>\n",
       "      <td>3</td>\n",
       "      <td>0</td>\n",
       "      <td>0</td>\n",
       "      <td>1</td>\n",
       "      <td>0</td>\n",
       "      <td>22</td>\n",
       "      <td>7</td>\n",
       "      <td>455</td>\n",
       "      <td>2</td>\n",
       "      <td>...</td>\n",
       "      <td>1</td>\n",
       "      <td>1</td>\n",
       "      <td>0</td>\n",
       "      <td>0</td>\n",
       "      <td>0</td>\n",
       "      <td>0</td>\n",
       "      <td>0</td>\n",
       "      <td>1</td>\n",
       "      <td>0</td>\n",
       "      <td>0</td>\n",
       "    </tr>\n",
       "    <tr>\n",
       "      <th>195</th>\n",
       "      <td>33</td>\n",
       "      <td>2</td>\n",
       "      <td>0</td>\n",
       "      <td>307</td>\n",
       "      <td>1</td>\n",
       "      <td>0</td>\n",
       "      <td>5</td>\n",
       "      <td>5</td>\n",
       "      <td>309</td>\n",
       "      <td>2</td>\n",
       "      <td>...</td>\n",
       "      <td>1</td>\n",
       "      <td>0</td>\n",
       "      <td>0</td>\n",
       "      <td>1</td>\n",
       "      <td>0</td>\n",
       "      <td>0</td>\n",
       "      <td>0</td>\n",
       "      <td>1</td>\n",
       "      <td>0</td>\n",
       "      <td>0</td>\n",
       "    </tr>\n",
       "    <tr>\n",
       "      <th>8515</th>\n",
       "      <td>37</td>\n",
       "      <td>2</td>\n",
       "      <td>0</td>\n",
       "      <td>341</td>\n",
       "      <td>0</td>\n",
       "      <td>0</td>\n",
       "      <td>3</td>\n",
       "      <td>6</td>\n",
       "      <td>120</td>\n",
       "      <td>2</td>\n",
       "      <td>...</td>\n",
       "      <td>0</td>\n",
       "      <td>0</td>\n",
       "      <td>0</td>\n",
       "      <td>1</td>\n",
       "      <td>0</td>\n",
       "      <td>0</td>\n",
       "      <td>0</td>\n",
       "      <td>1</td>\n",
       "      <td>0</td>\n",
       "      <td>0</td>\n",
       "    </tr>\n",
       "    <tr>\n",
       "      <th>31207</th>\n",
       "      <td>36</td>\n",
       "      <td>3</td>\n",
       "      <td>0</td>\n",
       "      <td>1381</td>\n",
       "      <td>0</td>\n",
       "      <td>0</td>\n",
       "      <td>2</td>\n",
       "      <td>3</td>\n",
       "      <td>149</td>\n",
       "      <td>1</td>\n",
       "      <td>...</td>\n",
       "      <td>0</td>\n",
       "      <td>1</td>\n",
       "      <td>0</td>\n",
       "      <td>0</td>\n",
       "      <td>0</td>\n",
       "      <td>0</td>\n",
       "      <td>0</td>\n",
       "      <td>1</td>\n",
       "      <td>0</td>\n",
       "      <td>0</td>\n",
       "    </tr>\n",
       "    <tr>\n",
       "      <th>38461</th>\n",
       "      <td>50</td>\n",
       "      <td>1</td>\n",
       "      <td>0</td>\n",
       "      <td>181</td>\n",
       "      <td>1</td>\n",
       "      <td>0</td>\n",
       "      <td>15</td>\n",
       "      <td>5</td>\n",
       "      <td>119</td>\n",
       "      <td>4</td>\n",
       "      <td>...</td>\n",
       "      <td>1</td>\n",
       "      <td>1</td>\n",
       "      <td>0</td>\n",
       "      <td>0</td>\n",
       "      <td>1</td>\n",
       "      <td>0</td>\n",
       "      <td>0</td>\n",
       "      <td>0</td>\n",
       "      <td>0</td>\n",
       "      <td>0</td>\n",
       "    </tr>\n",
       "  </tbody>\n",
       "</table>\n",
       "<p>10 rows × 36 columns</p>\n",
       "</div>"
      ],
      "text/plain": [
       "       age  education  default  balance  housing  loan  day  month  duration  \\\n",
       "38440   32          2        0      118        1     0   15      5        20   \n",
       "40402   78          1        0     2787        0     0    1      7       372   \n",
       "3708    31          3        0      144        1     0   16      5       676   \n",
       "37421   57          1        0     3777        1     0   13      5        65   \n",
       "12526   45          2        0     -705        0     1    3      7       111   \n",
       "16012   32          3        0        0        1     0   22      7       455   \n",
       "195     33          2        0      307        1     0    5      5       309   \n",
       "8515    37          2        0      341        0     0    3      6       120   \n",
       "31207   36          3        0     1381        0     0    2      3       149   \n",
       "38461   50          1        0      181        1     0   15      5       119   \n",
       "\n",
       "       campaign  ...  marital_single  contact_cellular  contact_telephone  \\\n",
       "38440         6  ...               0                 1                  0   \n",
       "40402         1  ...               0                 0                  1   \n",
       "3708          1  ...               1                 0                  0   \n",
       "37421         2  ...               1                 0                  1   \n",
       "12526         1  ...               0                 0                  0   \n",
       "16012         2  ...               1                 1                  0   \n",
       "195           2  ...               1                 0                  0   \n",
       "8515          2  ...               0                 0                  0   \n",
       "31207         1  ...               0                 1                  0   \n",
       "38461         4  ...               1                 1                  0   \n",
       "\n",
       "       contact_unknown  poutcome_failure  poutcome_other  poutcome_success  \\\n",
       "38440                0                 0               0                 0   \n",
       "40402                0                 0               0                 0   \n",
       "3708                 1                 0               0                 0   \n",
       "37421                0                 0               0                 0   \n",
       "12526                1                 0               0                 0   \n",
       "16012                0                 0               0                 0   \n",
       "195                  1                 0               0                 0   \n",
       "8515                 1                 0               0                 0   \n",
       "31207                0                 0               0                 0   \n",
       "38461                0                 1               0                 0   \n",
       "\n",
       "       poutcome_unknown  Observed Target  Predicted Target  \n",
       "38440                 1                0                 0  \n",
       "40402                 1                1                 0  \n",
       "3708                  1                1                 0  \n",
       "37421                 1                0                 0  \n",
       "12526                 1                0                 0  \n",
       "16012                 1                0                 0  \n",
       "195                   1                0                 0  \n",
       "8515                  1                0                 0  \n",
       "31207                 1                0                 0  \n",
       "38461                 0                0                 0  \n",
       "\n",
       "[10 rows x 36 columns]"
      ]
     },
     "execution_count": 43,
     "metadata": {},
     "output_type": "execute_result"
    }
   ],
   "source": [
    "#Looking at the prediction compared to what was observed for the Target\n",
    "z = x_test.copy()\n",
    "z['Observed Target'] = y_test\n",
    "z['Predicted Target'] = y_predict\n",
    "z.head(10)"
   ]
  },
  {
   "cell_type": "code",
   "execution_count": 44,
   "metadata": {},
   "outputs": [],
   "source": [
    "#This function is used to make the confusion matrix appear as a heatmap\n",
    "def heatmap_matrix(actual, predicted):\n",
    "    cm = confusion_matrix(actual, predicted)\n",
    "    sns.heatmap(cm, annot=True,  fmt='.2f', xticklabels = [0,1] , yticklabels = [0,1], cmap='YlGnBu')\n",
    "    plt.ylabel('Observed')\n",
    "    plt.xlabel('Predicted')\n",
    "    plt.show()"
   ]
  },
  {
   "cell_type": "code",
   "execution_count": 45,
   "metadata": {},
   "outputs": [
    {
     "name": "stdout",
     "output_type": "stream",
     "text": [
      "Training accuracy:  0.8881410560242677 \n",
      "\n",
      "Testing accuracy:  0.8902978472427012 \n",
      "\n",
      "Confusion Matrix:\n"
     ]
    },
    {
     "data": {
      "image/png": "[encoded data removed]",
      "text/plain": [
       "<Figure size 432x288 with 2 Axes>"
      ]
     },
     "metadata": {
      "needs_background": "light"
     },
     "output_type": "display_data"
    },
    {
     "name": "stdout",
     "output_type": "stream",
     "text": [
      "None \n",
      "\n",
      "Recall:  0.19567979669631513 \n",
      "\n",
      "Precision:  0.5811320754716981 \n",
      "\n",
      "F1 Score:  0.29277566539923955 \n",
      "\n",
      "Roc Auc Score:  0.5885821835858557\n"
     ]
    }
   ],
   "source": [
    "#Checking all necessary metrics to see how good the model is\n",
    "print('Training accuracy: ', lr_model.score(x_train,y_train), '\\n')  \n",
    "print('Testing accuracy: ', lr_model.score(x_test, y_test), '\\n')\n",
    "print('Confusion Matrix:')\n",
    "print(heatmap_matrix(y_test,y_predict), '\\n')\n",
    "print(\"Recall: \", recall_score(y_test, y_predict), '\\n')\n",
    "print(\"Precision: \", precision_score(y_test, y_predict), '\\n')\n",
    "print(\"F1 Score: \", f1_score(y_test, y_predict), '\\n')\n",
    "print(\"Roc Auc Score: \", roc_auc_score(y_test, y_predict))"
   ]
  },
  {
   "cell_type": "markdown",
   "metadata": {},
   "source": [
    "**Insights:** `There's a higher amount of false negatives than false than false positives. Training accuracy is 88%`"
   ]
  },
  {
   "cell_type": "markdown",
   "metadata": {},
   "source": [
    "### Decision Tree"
   ]
  },
  {
   "cell_type": "code",
   "execution_count": 53,
   "metadata": {},
   "outputs": [
    {
     "data": {
      "text/plain": [
       "DecisionTreeClassifier(ccp_alpha=0.0, class_weight=None, criterion='gini',\n",
       "                       max_depth=None, max_features=None, max_leaf_nodes=None,\n",
       "                       min_impurity_decrease=0.0, min_impurity_split=None,\n",
       "                       min_samples_leaf=1, min_samples_split=2,\n",
       "                       min_weight_fraction_leaf=0.0, presort='deprecated',\n",
       "                       random_state=12, splitter='best')"
      ]
     },
     "execution_count": 53,
     "metadata": {},
     "output_type": "execute_result"
    }
   ],
   "source": [
    "#Decision Tree algorithm\n",
    "from sklearn.tree import DecisionTreeClassifier\n",
    "#from sklearn.feature_extraction.text import CountVectorizer  #DT does not take strings as input for the model fit step....\n",
    "from IPython.display import Image  \n",
    "#import pydotplus as pydot\n",
    "from sklearn import tree\n",
    "from os import system\n",
    "\n",
    "dTree = DecisionTreeClassifier(criterion = 'gini', random_state=12)\n",
    "dTree.fit(x_train, y_train)"
   ]
  },
  {
   "cell_type": "code",
   "execution_count": 91,
   "metadata": {},
   "outputs": [
    {
     "name": "stdout",
     "output_type": "stream",
     "text": [
      "Training accuracy:  1.0 \n",
      "\n",
      "Testing accuracy:  0.8713506340312592 \n",
      "\n",
      "Confusion Matrix:\n"
     ]
    },
    {
     "data": {
      "image/png": "[encoded data removed]",
      "text/plain": [
       "<Figure size 432x288 with 2 Axes>"
      ]
     },
     "metadata": {
      "needs_background": "light"
     },
     "output_type": "display_data"
    },
    {
     "name": "stdout",
     "output_type": "stream",
     "text": [
      "None \n",
      "\n",
      "Recall:  0.3595933926302414 \n",
      "\n",
      "Precision:  0.6558516801853997 \n",
      "\n",
      "F1 Score:  0.46450553959786617 \n",
      "\n",
      "Roc Auc Score:  0.6674113752142034\n"
     ]
    }
   ],
   "source": [
    "#Decision Tree score\n",
    "print('Training accuracy: ', dTree.score(x_train,y_train), '\\n')  \n",
    "print('Testing accuracy: ', dTree.score(x_test, y_test), '\\n')\n",
    "print('Confusion Matrix:')\n",
    "print(heatmap_matrix(y_test,y_predict), '\\n')\n",
    "print(\"Recall: \", recall_score(y_test, y_predict), '\\n')\n",
    "print(\"Precision: \", precision_score(y_test, y_predict), '\\n')\n",
    "print(\"F1 Score: \", f1_score(y_test, y_predict), '\\n')\n",
    "print(\"Roc Auc Score: \", roc_auc_score(y_test, y_predict))"
   ]
  },
  {
   "cell_type": "markdown",
   "metadata": {},
   "source": [
    "**Insights:** `The decisions tree model seems to be overfitting the data.`"
   ]
  },
  {
   "cell_type": "code",
   "execution_count": 63,
   "metadata": {},
   "outputs": [
    {
     "name": "stdout",
     "output_type": "stream",
     "text": [
      "0.9009700761525579\n",
      "0.9017988793866116\n"
     ]
    }
   ],
   "source": [
    "#Regularization on the decision tree\n",
    "dTreeR = DecisionTreeClassifier(criterion = 'gini', max_depth = 3, random_state=12)\n",
    "dTreeR.fit(x_train, y_train)\n",
    "print(dTreeR.score(x_train, y_train))\n",
    "print(dTreeR.score(x_test, y_test))"
   ]
  },
  {
   "cell_type": "markdown",
   "metadata": {},
   "source": [
    "**Insights:** `The model now fits the data better since the test and training score is close.`"
   ]
  },
  {
   "cell_type": "code",
   "execution_count": 93,
   "metadata": {},
   "outputs": [
    {
     "name": "stdout",
     "output_type": "stream",
     "text": [
      "Confusion Matrix:\n"
     ]
    },
    {
     "data": {
      "image/png": "[encoded data removed]",
      "text/plain": [
       "<Figure size 432x288 with 2 Axes>"
      ]
     },
     "metadata": {
      "needs_background": "light"
     },
     "output_type": "display_data"
    },
    {
     "name": "stdout",
     "output_type": "stream",
     "text": [
      "None \n",
      "\n",
      "Recall:  0.34498094027954257 \n",
      "\n",
      "Precision:  0.6433649289099526 \n",
      "\n",
      "F1 Score:  0.4491315136476427 \n",
      "\n",
      "Roc Auc Score:  0.6599383433674609\n"
     ]
    }
   ],
   "source": [
    "#Score of the regularized model\n",
    "y_predict = dTreeR.predict(x_test)\n",
    "\n",
    "print('Confusion Matrix:')\n",
    "print(heatmap_matrix(y_test,y_predict), '\\n')\n",
    "print(\"Recall: \", recall_score(y_test, y_predict), '\\n')\n",
    "print(\"Precision: \", precision_score(y_test, y_predict), '\\n')\n",
    "print(\"F1 Score: \", f1_score(y_test, y_predict), '\\n')\n",
    "print(\"Roc Auc Score: \", roc_auc_score(y_test, y_predict))"
   ]
  },
  {
   "cell_type": "markdown",
   "metadata": {},
   "source": [
    "**Insights:** `The false negatives are higher than the false positives in this model and the model accuracy is similar to the logistic regression model.`"
   ]
  },
  {
   "cell_type": "markdown",
   "metadata": {},
   "source": [
    "### Bagging"
   ]
  },
  {
   "cell_type": "code",
   "execution_count": 77,
   "metadata": {},
   "outputs": [],
   "source": [
    "#Bagging\n",
    "from sklearn.ensemble import BaggingClassifier\n",
    "\n",
    "bgcl = BaggingClassifier(base_estimator=dTree, n_estimators=50,random_state=12)\n",
    "bgcl = bgcl.fit(x_train, y_train)"
   ]
  },
  {
   "cell_type": "code",
   "execution_count": 92,
   "metadata": {},
   "outputs": [
    {
     "name": "stdout",
     "output_type": "stream",
     "text": [
      "Training accuracy:  0.999715612854299 \n",
      "\n",
      "Testing accuracy:  0.9031259215570628 \n",
      "\n",
      "Confusion Matrix:\n"
     ]
    },
    {
     "data": {
      "image/png": "[encoded data removed]",
      "text/plain": [
       "<Figure size 432x288 with 2 Axes>"
      ]
     },
     "metadata": {
      "needs_background": "light"
     },
     "output_type": "display_data"
    },
    {
     "name": "stdout",
     "output_type": "stream",
     "text": [
      "None \n",
      "\n",
      "Recall:  0.45743329097839897 \n",
      "\n",
      "Precision:  0.6101694915254238 \n",
      "\n",
      "F1 Score:  0.522875816993464 \n",
      "\n",
      "Roc Auc Score:  0.7095339932790243\n"
     ]
    }
   ],
   "source": [
    "#Checking the preformance\n",
    "\n",
    "y_predict = bgcl.predict(x_test)\n",
    "\n",
    "print('Training accuracy: ', bgcl.score(x_train,y_train), '\\n')  \n",
    "print('Testing accuracy: ', bgcl.score(x_test, y_test), '\\n')\n",
    "print('Confusion Matrix:')\n",
    "print(heatmap_matrix(y_test,y_predict), '\\n')\n",
    "print(\"Recall: \", recall_score(y_test, y_predict), '\\n')\n",
    "print(\"Precision: \", precision_score(y_test, y_predict), '\\n')\n",
    "print(\"F1 Score: \", f1_score(y_test, y_predict), '\\n')\n",
    "print(\"Roc Auc Score: \", roc_auc_score(y_test, y_predict))"
   ]
  },
  {
   "cell_type": "markdown",
   "metadata": {},
   "source": [
    "**Insights:** `The model may be slightly overfitting but the amount of false positives and false negatives is lower compared to previous models.`"
   ]
  },
  {
   "cell_type": "markdown",
   "metadata": {},
   "source": [
    "### AdaBoost"
   ]
  },
  {
   "cell_type": "code",
   "execution_count": 79,
   "metadata": {},
   "outputs": [],
   "source": [
    "#Building the model\n",
    "from sklearn.ensemble import AdaBoostClassifier\n",
    "abcl = AdaBoostClassifier(n_estimators=10, random_state=12)\n",
    "abcl = abcl.fit(x_train, y_train)"
   ]
  },
  {
   "cell_type": "code",
   "execution_count": 94,
   "metadata": {},
   "outputs": [
    {
     "name": "stdout",
     "output_type": "stream",
     "text": [
      "Training accuracy:  0.8925016589250165 \n",
      "\n",
      "Testing accuracy:  0.893246829843704 \n",
      "\n",
      "Confusion Matrix:\n"
     ]
    },
    {
     "data": {
      "image/png": "[encoded data removed]",
      "text/plain": [
       "<Figure size 432x288 with 2 Axes>"
      ]
     },
     "metadata": {
      "needs_background": "light"
     },
     "output_type": "display_data"
    },
    {
     "name": "stdout",
     "output_type": "stream",
     "text": [
      "None \n",
      "\n",
      "Recall:  0.41740787801778906 \n",
      "\n",
      "Precision:  0.553030303030303 \n",
      "\n",
      "F1 Score:  0.4757422157856626 \n",
      "\n",
      "Roc Auc Score:  0.6865604861314967\n"
     ]
    }
   ],
   "source": [
    "#Checking AdaBoost performance\n",
    "y_predict = abcl.predict(x_test)\n",
    "print('Training accuracy: ', abcl.score(x_train,y_train), '\\n')  \n",
    "print('Testing accuracy: ', abcl.score(x_test, y_test), '\\n')\n",
    "print('Confusion Matrix:')\n",
    "print(heatmap_matrix(y_test,y_predict), '\\n')\n",
    "print(\"Recall: \", recall_score(y_test, y_predict), '\\n')\n",
    "print(\"Precision: \", precision_score(y_test, y_predict), '\\n')\n",
    "print(\"F1 Score: \", f1_score(y_test, y_predict), '\\n')\n",
    "print(\"Roc Auc Score: \", roc_auc_score(y_test, y_predict))"
   ]
  },
  {
   "cell_type": "markdown",
   "metadata": {},
   "source": [
    "**Insights:** `Accuracy between the testing and training models are very close. The model seems to be a good fit for the data.`"
   ]
  },
  {
   "cell_type": "markdown",
   "metadata": {},
   "source": [
    "### GradientBoost"
   ]
  },
  {
   "cell_type": "code",
   "execution_count": 85,
   "metadata": {},
   "outputs": [],
   "source": [
    "#Building the model\n",
    "\n",
    "from sklearn.ensemble import GradientBoostingClassifier\n",
    "gbcl = GradientBoostingClassifier(n_estimators = 50,random_state=12)\n",
    "gbcl = gbcl.fit(x_train, y_train)"
   ]
  },
  {
   "cell_type": "code",
   "execution_count": 95,
   "metadata": {},
   "outputs": [
    {
     "name": "stdout",
     "output_type": "stream",
     "text": [
      "Training accuracy:  0.9053306790533068 \n",
      "\n",
      "Testing accuracy:  0.9037894426422884 \n",
      "\n",
      "Confusion Matrix:\n"
     ]
    },
    {
     "data": {
      "image/png": "[encoded data removed]",
      "text/plain": [
       "<Figure size 432x288 with 2 Axes>"
      ]
     },
     "metadata": {
      "needs_background": "light"
     },
     "output_type": "display_data"
    },
    {
     "name": "stdout",
     "output_type": "stream",
     "text": [
      "None \n",
      "\n",
      "Recall:  0.3595933926302414 \n",
      "\n",
      "Precision:  0.6558516801853997 \n",
      "\n",
      "F1 Score:  0.46450553959786617 \n",
      "\n",
      "Roc Auc Score:  0.6674113752142034\n"
     ]
    }
   ],
   "source": [
    "y_predict = gbcl.predict(x_test)\n",
    "\n",
    "print('Training accuracy: ', gbcl.score(x_train,y_train), '\\n')  \n",
    "print('Testing accuracy: ', gbcl.score(x_test, y_test), '\\n')\n",
    "\n",
    "print('Confusion Matrix:')\n",
    "print(heatmap_matrix(y_test,y_predict), '\\n')\n",
    "print(\"Recall: \", recall_score(y_test, y_predict), '\\n')\n",
    "print(\"Precision: \", precision_score(y_test, y_predict), '\\n')\n",
    "print(\"F1 Score: \", f1_score(y_test, y_predict), '\\n')\n",
    "print(\"Roc Auc Score: \", roc_auc_score(y_test, y_predict))"
   ]
  },
  {
   "cell_type": "markdown",
   "metadata": {},
   "source": [
    "**Insights:** `Testing and training model performance is similar. The number of false negatives is higher than false positives.`"
   ]
  },
  {
   "cell_type": "markdown",
   "metadata": {},
   "source": [
    "## Conclusion"
   ]
  },
  {
   "cell_type": "markdown",
   "metadata": {},
   "source": [
    "Based on the performance of the models, it seems that the Bagging method is the best. Looking at the Confusion Matrix:\n",
    "\n",
    "- **True Positive:** Those who would subscribe to tram deposit and have done so. \n",
    "- **True Negative:** Those who wouldn't subscribe to term deposit and did not.\n",
    "- **False Positive:** Those who were predicted to subscribe to term deposit but they actually didn't.\n",
    "- **False Negative:** Those who were predicted to not subscribe to term deposit and did.\n",
    "\n",
    "In the case of our goal, we would like to have more false negatives than false positives because the results would exceed expectations. For that reason, it is important to factor the weight of the Recall score. Recall will tell us of those who were identified to subscribe term deposit, what is the fraction of those who were correctly identified? This will ensure that we are getting the most accurate prediction of who will subscribe. The Bagging model has the highest Recall and also the highest training and testing scores even though the data may be slightly overfitting. Based on an initial comparison to other models, perhaps it can be improved in further steps. "
   ]
  }
 ],
 "metadata": {
  "kernelspec": {
   "display_name": "Python 3",
   "language": "python",
   "name": "python3"
  },
  "language_info": {
   "codemirror_mode": {
    "name": "ipython",
    "version": 3
   },
   "file_extension": ".py",
   "mimetype": "text/x-python",
   "name": "python",
   "nbconvert_exporter": "python",
   "pygments_lexer": "ipython3",
   "version": "3.7.6"
  }
 },
 "nbformat": 4,
 "nbformat_minor": 4
}
